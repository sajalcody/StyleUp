{
  "nbformat": 4,
  "nbformat_minor": 0,
  "metadata": {
    "colab": {
      "name": "ProjectTSWE.ipynb",
      "version": "0.3.2",
      "provenance": []
    },
    "kernelspec": {
      "name": "python3",
      "display_name": "Python 3"
    }
  },
  "cells": [
    {
      "cell_type": "code",
      "metadata": {
        "id": "2xy3zfv71DPK",
        "colab_type": "code",
        "colab": {
          "base_uri": "https://localhost:8080/",
          "height": 122
        },
        "outputId": "009c0f25-5421-44f2-f78f-4c8dbec38fb4"
      },
      "source": [
        " # Google Colab Setup\n",
        "from google.colab import drive\n",
        "\n",
        "# This will prompt for authorization.\n",
        "drive.mount('/content/drive')"
      ],
      "execution_count": 1,
      "outputs": [
        {
          "output_type": "stream",
          "text": [
            "Go to this URL in a browser: https://accounts.google.com/o/oauth2/auth?client_id=947318989803-6bn6qk8qdgf4n4g3pfee6491hc0brc4i.apps.googleusercontent.com&redirect_uri=urn%3Aietf%3Awg%3Aoauth%3A2.0%3Aoob&scope=email%20https%3A%2F%2Fwww.googleapis.com%2Fauth%2Fdocs.test%20https%3A%2F%2Fwww.googleapis.com%2Fauth%2Fdrive%20https%3A%2F%2Fwww.googleapis.com%2Fauth%2Fdrive.photos.readonly%20https%3A%2F%2Fwww.googleapis.com%2Fauth%2Fpeopleapi.readonly&response_type=code\n",
            "\n",
            "Enter your authorization code:\n",
            "··········\n",
            "Mounted at /content/drive\n"
          ],
          "name": "stdout"
        }
      ]
    },
    {
      "cell_type": "code",
      "metadata": {
        "id": "zGoQe7jU1RsV",
        "colab_type": "code",
        "colab": {
          "base_uri": "https://localhost:8080/",
          "height": 34
        },
        "outputId": "46a01b12-968c-4b0c-e8a6-67bbb0ceb2e9"
      },
      "source": [
        "%cd drive/My Drive/Colab Notebooks"
      ],
      "execution_count": 2,
      "outputs": [
        {
          "output_type": "stream",
          "text": [
            "/content/drive/My Drive/Colab Notebooks\n"
          ],
          "name": "stdout"
        }
      ]
    },
    {
      "cell_type": "code",
      "metadata": {
        "id": "H9TRxOG314Cw",
        "colab_type": "code",
        "colab": {}
      },
      "source": [
        "import os\n",
        "import sys\n",
        "import scipy.io\n",
        "import scipy.misc\n",
        "import matplotlib.pyplot as plt\n",
        "from matplotlib.pyplot import imshow\n",
        "from PIL import Image\n",
        "import numpy as np\n",
        "import tensorflow as tf\n",
        "import imageio"
      ],
      "execution_count": 0,
      "outputs": []
    },
    {
      "cell_type": "code",
      "metadata": {
        "id": "8qA6ig8z1-Bs",
        "colab_type": "code",
        "colab": {}
      },
      "source": [
        "class configuration:\n",
        "    IMAGE_WIDTH = 400\n",
        "    IMAGE_HEIGHT = 300\n",
        "    COLOR_CHANNELS = 3\n",
        "    NOISE_RATIO = 0.6\n",
        "    MEANS = np.array([123.68, 116.779, 103.939]).reshape((1,1,1,3)) \n",
        "    VGG_MODEL = 'imagenet-vgg-verydeep-19.mat' \n",
        "    STYLE_IMAGE = 'stone_style.jpg' \n",
        "    CONTENT_IMAGE = 'content300.jpg' \n",
        "    OUTPUT_DIR = 'output/'\n",
        "def load_vgg_model(path):\n",
        "    \n",
        "    vgg = scipy.io.loadmat(path)\n",
        "\n",
        "    vgg_layers = vgg['layers']\n",
        "    \n",
        "    def _weights(layer, expected_layer_name):\n",
        "      \n",
        "        wb = vgg_layers[0][layer][0][0][2]\n",
        "        W = wb[0][0]\n",
        "        b = wb[0][1]\n",
        "        layer_name = vgg_layers[0][layer][0][0][0][0]\n",
        "        assert layer_name == expected_layer_name\n",
        "        return W, b\n",
        "\n",
        "        #return W, b\n",
        "     \n",
        "    def _relu(conv2d_layer):\n",
        "       \n",
        "        return tf.nn.relu(conv2d_layer)\n",
        "      \n",
        "    def _conv2d(prev_layer, layer, layer_name):\n",
        "       \n",
        "        W, b = _weights(layer, layer_name)\n",
        "        W = tf.constant(W)\n",
        "        b = tf.constant(np.reshape(b, (b.size)))\n",
        "        return tf.nn.conv2d(prev_layer, filter=W, strides=[1, 1, 1, 1], padding='SAME') + b\n",
        "    def _conv2d_relu(prev_layer, layer, layer_name):\n",
        "    \n",
        "        return _relu(_conv2d(prev_layer, layer, layer_name))\n",
        "\n",
        "    def _avgpool(prev_layer):\n",
        "        \n",
        "        return tf.nn.avg_pool(prev_layer, ksize=[1, 2, 2, 1], strides=[1, 2, 2, 1], padding='SAME')\n",
        "    \n",
        "    graph = {}\n",
        "    graph['input']   = tf.Variable(np.zeros((1, configuration.IMAGE_HEIGHT, configuration.IMAGE_WIDTH, configuration.COLOR_CHANNELS)), dtype = 'float32')\n",
        "    graph['conv1_1']  = _conv2d_relu(graph['input'], 0, 'conv1_1')\n",
        "    graph['conv1_2']  = _conv2d_relu(graph['conv1_1'], 2, 'conv1_2')\n",
        "    graph['avgpool1'] = _avgpool(graph['conv1_2'])\n",
        "    graph['conv2_1']  = _conv2d_relu(graph['avgpool1'], 5, 'conv2_1')\n",
        "    graph['conv2_2']  = _conv2d_relu(graph['conv2_1'], 7, 'conv2_2')\n",
        "    graph['avgpool2'] = _avgpool(graph['conv2_2'])\n",
        "    graph['conv3_1']  = _conv2d_relu(graph['avgpool2'], 10, 'conv3_1')\n",
        "    graph['conv3_2']  = _conv2d_relu(graph['conv3_1'], 12, 'conv3_2')\n",
        "    graph['conv3_3']  = _conv2d_relu(graph['conv3_2'], 14, 'conv3_3')\n",
        "    graph['conv3_4']  = _conv2d_relu(graph['conv3_3'], 16, 'conv3_4')\n",
        "    graph['avgpool3'] = _avgpool(graph['conv3_4'])\n",
        "    graph['conv4_1']  = _conv2d_relu(graph['avgpool3'], 19, 'conv4_1')\n",
        "    graph['conv4_2']  = _conv2d_relu(graph['conv4_1'], 21, 'conv4_2')\n",
        "    graph['conv4_3']  = _conv2d_relu(graph['conv4_2'], 23, 'conv4_3')\n",
        "    graph['conv4_4']  = _conv2d_relu(graph['conv4_3'], 25, 'conv4_4')\n",
        "    graph['avgpool4'] = _avgpool(graph['conv4_4'])\n",
        "    graph['conv5_1']  = _conv2d_relu(graph['avgpool4'], 28, 'conv5_1')\n",
        "    graph['conv5_2']  = _conv2d_relu(graph['conv5_1'], 30, 'conv5_2')\n",
        "    graph['conv5_3']  = _conv2d_relu(graph['conv5_2'], 32, 'conv5_3')\n",
        "    graph['conv5_4']  = _conv2d_relu(graph['conv5_3'], 34, 'conv5_4')\n",
        "    graph['avgpool5'] = _avgpool(graph['conv5_4'])\n",
        "    \n",
        "    return graph\n",
        "def reshape_and_normalize_image(image):   \n",
        "    image = np.reshape(image, ((1,) + image.shape))  \n",
        "    image = image - configuration.MEANS\n",
        "    return image\n",
        "\n",
        "\n",
        "def save_image(path, image):\n",
        "    image = image + configuration.MEANS\n",
        "    image = np.clip(image[0], 0, 255).astype('uint8')\n",
        "    imageio.imwrite(path, image)\n",
        "\n"
      ],
      "execution_count": 0,
      "outputs": []
    },

    {
      "cell_type": "code",
      "metadata": {
        "id": "KVzNZ03r58vM",
        "colab_type": "code",
        "colab": {}
      },
      "source": [
        "# compute_content_cost\n",
        "\n",
        "def compute_content_cost(a_C, a_G):\n",
        "    \n",
        "    m, n_H, n_W, n_C = a_G.get_shape().as_list()\n",
        "    \n",
        "    a_C_unrolled = tf.reshape(a_C, [n_H * n_W, n_C])\n",
        "    a_G_unrolled = tf.reshape(a_G, [n_H * n_W, n_C])\n",
        "    \n",
        "    J_content = (1 / (4 * n_H * n_W * n_C)) * tf.reduce_sum(tf.square(tf.subtract(a_C_unrolled, a_G_unrolled)))\n",
        "    \n",
        "    return J_content"
      ],
      "execution_count": 0,
      "outputs": []
    },
    {
      "cell_type": "code",
      "metadata": {
        "id": "kUSQ-5fRAmK0",
        "colab_type": "code",
        "colab": {}
      },
      "source": [
        "model = load_vgg_model(\"imagenet-vgg-verydeep-19.mat\")\n",
        "print(model)"
      ],
      "execution_count": 0,
      "outputs": []
    },

 
    {
      "cell_type": "code",
      "metadata": {
        "id": "fiKrZHrjBHoE",
        "colab_type": "code",
        "colab": {}
      },
      "source": [
        "\n",
        "def gram_matrix(A):\n",
        "    \n",
        "    GA = tf.matmul(A,tf.transpose(A))\n",
        "    \n",
        "    return GA"
      ],
      "execution_count": 0,
      "outputs": []
    },
    {
      "cell_type": "code",
      "metadata": {
        "id": "EeQbph5WBUk9",
        "colab_type": "code",
        "colab": {}
      },
      "source": [
        "\n",
        "def compute_layer_style_cost(a_S, a_G):\n",
        "\n",
        "    m, n_H, n_W, n_C = a_G.get_shape().as_list()\n",
        "    \n",
        "    a_S = tf.reshape(a_S,[n_H*n_W,n_C])\n",
        "    a_G = tf.reshape(a_G,[n_H*n_W,n_C])\n",
        "\n",
        "    GS = gram_matrix(tf.transpose(a_S))\n",
        "    GG = gram_matrix(tf.transpose(a_G))\n",
        "\n",
        "   \n",
        "    J_style_layer = (tf.reduce_sum(tf.reduce_sum(tf.square(tf.subtract(GS,GG)))))/(4*(n_C * n_C) * (n_H * n_W)*(n_H * n_W))\n",
        "    \n",
        " \n",
        "    return J_style_layer"
      ],
      "execution_count": 0,
      "outputs": []
    },
 
    {
      "cell_type": "code",
      "metadata": {
        "id": "tv3FIxE4CD4_",
        "colab_type": "code",
        "colab": {}
      },
      "source": [
        ""
      ],
      "execution_count": 0,
      "outputs": []
    }


  ]
}