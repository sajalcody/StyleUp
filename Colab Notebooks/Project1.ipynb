{
  "nbformat": 4,
  "nbformat_minor": 0,
  "metadata": {
    "colab": {
      "name": "Project1.ipynb",
      "version": "0.3.2",
      "provenance": []
    },
    "kernelspec": {
      "name": "python3",
      "display_name": "Python 3"
    }
  },
  "cells": [
    {
      "cell_type": "code",
      "metadata": {
        "id": "BTE-L0exJbB1",
        "colab_type": "code",
        "outputId": "886f3c0a-dd6b-4695-fca2-2bab52498686",
        "colab": {
          "base_uri": "https://localhost:8080/",
          "height": 121
        }
      },
      "source": [
        "# Google Colab Setup\n",
        "from google.colab import drive\n",
        "\n",
        "# This will prompt for authorization.\n",
        "drive.mount('/content/drive')"
      ],
      "execution_count": 2,
      "outputs": [
        {
          "output_type": "stream",
          "text": [
            "Go to this URL in a browser: https://accounts.google.com/o/oauth2/auth?client_id=947318989803-6bn6qk8qdgf4n4g3pfee6491hc0brc4i.apps.googleusercontent.com&redirect_uri=urn%3Aietf%3Awg%3Aoauth%3A2.0%3Aoob&scope=email%20https%3A%2F%2Fwww.googleapis.com%2Fauth%2Fdocs.test%20https%3A%2F%2Fwww.googleapis.com%2Fauth%2Fdrive%20https%3A%2F%2Fwww.googleapis.com%2Fauth%2Fdrive.photos.readonly%20https%3A%2F%2Fwww.googleapis.com%2Fauth%2Fpeopleapi.readonly&response_type=code\n",
            "\n",
            "Enter your authorization code:\n",
            "··········\n",
            "Mounted at /content/drive\n"
          ],
          "name": "stdout"
        }
      ]
    },
    {
      "cell_type": "code",
      "metadata": {
        "id": "TDVk8PHgJeOM",
        "colab_type": "code",
        "outputId": "02719d16-1165-45d4-cde5-173270125083",
        "colab": {
          "base_uri": "https://localhost:8080/",
          "height": 34
        }
      },
      "source": [
        "%cd drive/My Drive/Colab Notebooks"
      ],
      "execution_count": 8,
      "outputs": [
        {
          "output_type": "stream",
          "text": [
            "/content/drive/My Drive/Colab Notebooks\n"
          ],
          "name": "stdout"
        }
      ]
    },
    {
      "cell_type": "code",
      "metadata": {
        "id": "myj8QKDXJpjx",
        "colab_type": "code",
        "colab": {}
      },
      "source": [
        "import os\n",
        "import sys\n",
        "import scipy.io\n",
        "import scipy.misc\n",
        "import matplotlib.pyplot as plt\n",
        "from matplotlib.pyplot import imshow\n",
        "from PIL import Image\n",
        "import numpy as np\n",
        "import tensorflow as tf\n",
        "import imageio"
      ],
      "execution_count": 0,
      "outputs": []
    },
    {
      "cell_type": "code",
      "metadata": {
        "id": "ptgxhlxvJwMW",
        "colab_type": "code",
        "colab": {}
      },
      "source": [
        "class configuration:\n",
        "    IMAGE_WIDTH = 400\n",
        "    IMAGE_HEIGHT = 300\n",
        "    COLOR_CHANNELS = 3\n",
        "    NOISE_RATIO = 0.6\n",
        "    MEANS = np.array([123.68, 116.779, 103.939]).reshape((1,1,1,3)) \n",
        "    VGG_MODEL = 'imagenet-vgg-verydeep-19.mat' \n",
        "    STYLE_IMAGE = 'stone_style.jpg' \n",
        "    CONTENT_IMAGE = 'content300.jpg' \n",
        "    OUTPUT_DIR = 'output/'\n",
        "def load_vgg_model(path):\n",
        "    \n",
        "    vgg = scipy.io.loadmat(path)\n",
        "\n",
        "    vgg_layers = vgg['layers']\n",
        "    \n",
        "    def _weights(layer, expected_layer_name):\n",
        "      \n",
        "        wb = vgg_layers[0][layer][0][0][2]\n",
        "        W = wb[0][0]\n",
        "        b = wb[0][1]\n",
        "        layer_name = vgg_layers[0][layer][0][0][0][0]\n",
        "        assert layer_name == expected_layer_name\n",
        "        return W, b\n",
        "\n",
        "        #return W, b\n",
        "     \n",
        "    def _relu(conv2d_layer):\n",
        "       \n",
        "        return tf.nn.relu(conv2d_layer)\n",
        "      \n",
        "    def _conv2d(prev_layer, layer, layer_name):\n",
        "       \n",
        "        W, b = _weights(layer, layer_name)\n",
        "        W = tf.constant(W)\n",
        "        b = tf.constant(np.reshape(b, (b.size)))\n",
        "        return tf.nn.conv2d(prev_layer, filter=W, strides=[1, 1, 1, 1], padding='SAME') + b\n",
        "    def _conv2d_relu(prev_layer, layer, layer_name):\n",
        "    \n",
        "        return _relu(_conv2d(prev_layer, layer, layer_name))\n",
        "\n",
        "    def _avgpool(prev_layer):\n",
        "        \n",
        "        return tf.nn.avg_pool(prev_layer, ksize=[1, 2, 2, 1], strides=[1, 2, 2, 1], padding='SAME')\n",
        "    \n",
        "    graph = {}\n",
        "    graph['input']   = tf.Variable(np.zeros((1, configuration.IMAGE_HEIGHT, configuration.IMAGE_WIDTH, configuration.COLOR_CHANNELS)), dtype = 'float32')\n",
        "    graph['conv1_1']  = _conv2d_relu(graph['input'], 0, 'conv1_1')\n",
        "    graph['conv1_2']  = _conv2d_relu(graph['conv1_1'], 2, 'conv1_2')\n",
        "    graph['avgpool1'] = _avgpool(graph['conv1_2'])\n",
        "    graph['conv2_1']  = _conv2d_relu(graph['avgpool1'], 5, 'conv2_1')\n",
        "    graph['conv2_2']  = _conv2d_relu(graph['conv2_1'], 7, 'conv2_2')\n",
        "    graph['avgpool2'] = _avgpool(graph['conv2_2'])\n",
        "    graph['conv3_1']  = _conv2d_relu(graph['avgpool2'], 10, 'conv3_1')\n",
        "    graph['conv3_2']  = _conv2d_relu(graph['conv3_1'], 12, 'conv3_2')\n",
        "    graph['conv3_3']  = _conv2d_relu(graph['conv3_2'], 14, 'conv3_3')\n",
        "    graph['conv3_4']  = _conv2d_relu(graph['conv3_3'], 16, 'conv3_4')\n",
        "    graph['avgpool3'] = _avgpool(graph['conv3_4'])\n",
        "    graph['conv4_1']  = _conv2d_relu(graph['avgpool3'], 19, 'conv4_1')\n",
        "    graph['conv4_2']  = _conv2d_relu(graph['conv4_1'], 21, 'conv4_2')\n",
        "    graph['conv4_3']  = _conv2d_relu(graph['conv4_2'], 23, 'conv4_3')\n",
        "    graph['conv4_4']  = _conv2d_relu(graph['conv4_3'], 25, 'conv4_4')\n",
        "    graph['avgpool4'] = _avgpool(graph['conv4_4'])\n",
        "    graph['conv5_1']  = _conv2d_relu(graph['avgpool4'], 28, 'conv5_1')\n",
        "    graph['conv5_2']  = _conv2d_relu(graph['conv5_1'], 30, 'conv5_2')\n",
        "    graph['conv5_3']  = _conv2d_relu(graph['conv5_2'], 32, 'conv5_3')\n",
        "    graph['conv5_4']  = _conv2d_relu(graph['conv5_3'], 34, 'conv5_4')\n",
        "    graph['avgpool5'] = _avgpool(graph['conv5_4'])\n",
        "    \n",
        "    return graph\n",
        "\n",
        "\n"
      ],
      "execution_count": 0,
      "outputs": []
    }
  ]
}